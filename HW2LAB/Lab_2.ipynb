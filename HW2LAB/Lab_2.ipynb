{
 "nbformat": 4,
 "nbformat_minor": 0,
 "metadata": {
  "kernelspec": {
   "display_name": "Python 3",
   "language": "python",
   "name": "python3"
  },
  "language_info": {
   "codemirror_mode": {
    "name": "ipython",
    "version": 3
   },
   "file_extension": ".py",
   "mimetype": "text/x-python",
   "name": "python",
   "nbconvert_exporter": "python",
   "pygments_lexer": "ipython3",
   "version": "3.5.4"
  },
  "colab": {
   "name": "Lab_2_Final.ipynb",
   "provenance": [],
   "collapsed_sections": []
  }
 },
 "cells": [
  {
   "cell_type": "markdown",
   "metadata": {
    "id": "IwnhrijUPP2T"
   },
   "source": [
    "## We’ll create four random clusters using make_blobs in Python’s sci-kit learn library"
   ]
  },
  {
   "cell_type": "code",
   "metadata": {
    "id": "11tOEVVVPP2T",
    "is_executing": true
   },
   "source": [
    "# import statements\n",
    "from sklearn.datasets import make_blobs\n",
    "import numpy as np\n",
    "import matplotlib.pyplot as plt\n"
   ],
   "execution_count": null,
   "outputs": []
  },
  {
   "cell_type": "code",
   "metadata": {
    "id": "-P6xDUFKPP2X"
   },
   "source": [
    "# create blobs\n",
    "data = make_blobs(n_samples=200, n_features=2, centers=4, cluster_std=1.6, random_state=50)\n",
    "# create np array for data points\n",
    "points = data[0]\n"
   ],
   "execution_count": 2,
   "outputs": []
  },
  {
   "cell_type": "markdown",
   "metadata": {
    "id": "9wW3rbQUPP2Z"
   },
   "source": [
    "### the clusters are shown by colors"
   ]
  },
  {
   "cell_type": "code",
   "metadata": {
    "id": "EsxubgDBPP2Z",
    "outputId": "c0a49436-a6f7-46f8-842b-8aa170150d48",
    "colab": {
     "base_uri": "https://localhost:8080/",
     "height": 286
    }
   },
   "source": [
    "# create scatter plot\n",
    "plt.scatter(data[0][:,0], data[0][:,1], c=data[1], cmap='viridis')\n",
    "plt.xlim(-15,15)\n",
    "plt.ylim(-15,15)"
   ],
   "execution_count": 3,
   "outputs": [
    {
     "output_type": "execute_result",
     "data": {
      "text/plain": [
       "(-15.0, 15.0)"
      ]
     },
     "metadata": {
      "tags": []
     },
     "execution_count": 3
    },
    {
     "output_type": "display_data",
     "data": {
      "image/png": "[encoded data removed]",
      "text/plain": [
       "<Figure size 432x288 with 1 Axes>"
      ]
     },
     "metadata": {
      "tags": [],
      "needs_background": "light"
     }
    }
   ]
  },
  {
   "cell_type": "markdown",
   "metadata": {
    "id": "On7IlVbDPP2c"
   },
   "source": [
    "## Part 1: Run K Means Algoritm and Observe Results"
   ]
  },
  {
   "cell_type": "code",
   "metadata": {
    "id": "taicXM8aPP2d"
   },
   "source": [
    "# import KMeans\n",
    "from sklearn.cluster import KMeans\n",
    "\n",
    "# create kmeans object\n",
    "kmeans = KMeans(n_clusters=3)\n",
    "# fit kmeans object to data\n",
    "kmeans.fit(points)\n",
    "# print location of clusters learned by kmeans object\n",
    "print(kmeans.cluster_centers_)\n",
    "# save new clusters for chart\n",
    "y_km = kmeans.fit_predict(points)"
   ],
   "execution_count": null,
   "outputs": []
  },
  {
   "cell_type": "code",
   "metadata": {
    "id": "CoO-G70FPP2f"
   },
   "source": [
    "# print points in each cluster with a unique color\n",
    "plt.scatter(points[y_km ==0,0], points[y_km == 0,1], s=100, c='red')\n",
    "plt.scatter(points[y_km ==1,0], points[y_km == 1,1], s=100, c='black')\n",
    "plt.scatter(points[y_km ==2,0], points[y_km == 2,1], s=100, c='blue')\n",
    "\n",
    "\n",
    "plt.xlim(-15,15)\n",
    "plt.ylim(-15,15)"
   ],
   "execution_count": null,
   "outputs": []
  },
  {
   "cell_type": "markdown",
   "metadata": {
    "id": "ZvYYKO-oPP2h"
   },
   "source": [
    "## Question 1: What did you observe when K = 3? "
   ]
  },
  {
   "cell_type": "code",
   "metadata": {
    "id": "dm8xRg6pPP2i"
   },
   "source": [
    "print(\"Answer: \")"
   ],
   "execution_count": null,
   "outputs": []
  },
  {
   "cell_type": "markdown",
   "metadata": {
    "id": "ICWvoKK0P9LE"
   },
   "source": [
    "## Please try the K-Means clustering process and visualization with K=4. What did you observe for K=4?"
   ]
  },
  {
   "cell_type": "code",
   "metadata": {
    "id": "7fOUXNVgQGpF"
   },
   "source": [
    "print(\"Answer: \")"
   ],
   "execution_count": null,
   "outputs": []
  },
  {
   "cell_type": "markdown",
   "metadata": {
    "id": "b-b0FOdkPP2k"
   },
   "source": [
    "## Part 2: Run Hierarchical Clustering with MIN (single-link) and MAX (complete-link), and observe results"
   ]
  },
  {
   "cell_type": "markdown",
   "metadata": {
    "id": "ZaSsSyNVPP2l"
   },
   "source": [
    "### Part 2.1: Run Hierarchical Clustering with MIN (single-link), and visualize results similar to above"
   ]
  },
  {
   "cell_type": "code",
   "metadata": {
    "id": "vuxEjxsUPP2l"
   },
   "source": [
    "## Write your codes below to call hierarchical clustering with MIN, and visualize results\n",
    "from sklearn.cluster import AgglomerativeClustering\n",
    "\n",
    "# run the AgglomerativeClustering function, with paramters: n_clusters=4, linkage=\"single\", affinity=\"euclidean\"\n",
    "minClustering =     #complete this line with the function above\n",
    "minLabels = minClustering.fit_predict(points)\n",
    "print(\"Found \" + str(max(minLabels) + 1) + \" total clusters!\")\n",
    "\n",
    "plt.scatter(points[:,0], points[:,1], c=minLabels, cmap='viridis')\n",
    "plt.xlim(-15,15)\n",
    "plt.ylim(-15,15)"
   ],
   "execution_count": null,
   "outputs": []
  },
  {
   "cell_type": "markdown",
   "metadata": {
    "id": "OnskvRqXPP2n"
   },
   "source": [
    "### Question: \n",
    "what is the difference between Hierarchical clustering with MIN and K-means? How does hierarchical clustering with MIN handle outliers? Do you have some potential fix to address outliers?"
   ]
  },
  {
   "cell_type": "code",
   "metadata": {
    "id": "okLjZOg3PP2o"
   },
   "source": [
    "print(\"Answer: \")"
   ],
   "execution_count": null,
   "outputs": []
  },
  {
   "cell_type": "markdown",
   "metadata": {
    "id": "WAcNvKp8PP2q"
   },
   "source": [
    "### Part 2.2: Run Hierarchical Clustering with MAX (complete-link), and visualize results similar to above"
   ]
  },
  {
   "cell_type": "code",
   "metadata": {
    "id": "5yAjUp52PP2q"
   },
   "source": [
    "## Write your codes below to call hierarchical clustering with MAX, and visualize results\n",
    "## You may need to tune the parameters to try to find the four clusters as much as possible\n",
    "\n",
    "#run the same AgglomerativeClustering function, with parameters: n_clusters=4, linkage=\"complete\", affinity=\"euclidean\"\n",
    "maxClustering =     #complete this line with the function above\n",
    "maxLabels = maxClustering.fit_predict(points)\n",
    "print(\"Found \" + str(max(maxLabels) + 1) + \" total clusters!\")\n",
    "\n",
    "plt.scatter(points[:,0], points[:,1], c=maxLabels, cmap='viridis')\n",
    "plt.xlim(-15,15)\n",
    "plt.ylim(-15,15)"
   ],
   "execution_count": null,
   "outputs": []
  },
  {
   "cell_type": "markdown",
   "metadata": {
    "id": "me0HIa_lPP2s"
   },
   "source": [
    "### Question: \n",
    "Between Hierarchical clustering with MIN and with MAX, which behaves more similar to K-means?"
   ]
  },
  {
   "cell_type": "code",
   "metadata": {
    "id": "O5CD2D_kPP2s"
   },
   "source": [
    "print(\"Answer: \")"
   ],
   "execution_count": null,
   "outputs": []
  },
  {
   "cell_type": "markdown",
   "metadata": {
    "id": "lnlqTQifPP2u"
   },
   "source": [
    "## Part 3: Run DB-Scan and observe results"
   ]
  },
  {
   "cell_type": "code",
   "metadata": {
    "id": "DwcEr3q2PP2v"
   },
   "source": [
    "## Write your codes below to call DB-Scan and visualize results\n",
    "from sklearn.cluster import DBSCAN\n",
    "\n",
    "#Use the DBSCAN function with parameters: eps=2, min_samples=28, metric=\"euclidean\" \n",
    "dbScan = \n",
    "dbScanLabels = dbScan.fit_predict(points)\n",
    "\n",
    "print(\"Found \" + str(max(dbScanLabels)+1) + \" total clusters!\")\n",
    "print(str(len(points) - len(dbScanLabels[dbScanLabels != -1])) + \" points were dropped as noise.\")\n",
    "plt.scatter(points[dbScanLabels != -1,0], points[dbScanLabels != -1,1], c=dbScanLabels[dbScanLabels != -1], cmap='viridis')\n",
    "plt.xlim(-15,15)\n",
    "plt.ylim(-15,15)"
   ],
   "execution_count": null,
   "outputs": []
  },
  {
   "cell_type": "markdown",
   "metadata": {
    "id": "YLtjl_ARPP2x"
   },
   "source": [
    "### Question: \n",
    "what did you observe about this method?"
   ]
  },
  {
   "cell_type": "code",
   "metadata": {
    "id": "d9zdklirPP2x"
   },
   "source": [
    "print(\"Answer: \")"
   ],
   "execution_count": null,
   "outputs": []
  }
 ]
}
